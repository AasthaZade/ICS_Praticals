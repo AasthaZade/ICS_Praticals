{
  "nbformat": 4,
  "nbformat_minor": 0,
  "metadata": {
    "colab": {
      "provenance": []
    },
    "kernelspec": {
      "name": "python3",
      "display_name": "Python 3"
    },
    "language_info": {
      "name": "python"
    }
  },
  "cells": [
    {
      "cell_type": "code",
      "execution_count": null,
      "metadata": {
        "colab": {
          "base_uri": "https://localhost:8080/"
        },
        "id": "B1apQ8EEtzzw",
        "outputId": "3f0da8f5-081b-4de8-fbfe-7ee6f403f095"
      },
      "outputs": [
        {
          "output_type": "stream",
          "name": "stdout",
          "text": [
            "Cipher: 10001101\n"
          ]
        }
      ],
      "source": [
        "def permute(bits, pattern): return [bits[i - 1] for i in pattern]\n",
        "def shift(l, n): return l[n:] + l[:n]\n",
        "def xor(a, b): return [i ^ j for i, j in zip(a, b)]\n",
        "\n",
        "S0 = [[1,0,3,2],[3,2,1,0],[0,2,1,3],[3,1,3,2]]\n",
        "S1 = [[0,1,2,3],[2,0,1,3],[3,0,1,0],[2,1,0,3]]\n",
        "\n",
        "def sbox(bits, box):\n",
        "    row = (bits[0]<<1) | bits[3]\n",
        "    col = (bits[1]<<1) | bits[2]\n",
        "    val = box[row][col]\n",
        "    return [(val>>1)&1, val&1]\n",
        "\n",
        "def fk(bits, key):\n",
        "    EP = [4,1,2,3,2,3,4,1]\n",
        "    P4 = [2,4,3,1]\n",
        "    L, R = bits[:4], bits[4:]\n",
        "    temp = xor(permute(R, EP), key)\n",
        "    return xor(L, permute(sbox(temp[:4], S0)+sbox(temp[4:], S1), P4)) + R\n",
        "\n",
        "def keys(k):\n",
        "    P10 = [3,5,2,7,4,10,1,9,8,6]\n",
        "    P8 = [6,3,7,4,8,5,10,9]\n",
        "    k = permute(k, P10)\n",
        "    L, R = shift(k[:5], 1), shift(k[5:], 1)\n",
        "    K1 = permute(L+R, P8)\n",
        "    L, R = shift(L, 2), shift(R, 2)\n",
        "    K2 = permute(L+R, P8)\n",
        "    return K1, K2\n",
        "\n",
        "def encrypt(pt, k):\n",
        "    IP, IPi = [2,6,3,1,4,8,5,7], [4,1,3,5,7,2,8,6]\n",
        "    K1, K2 = keys(k)\n",
        "    pt = permute(pt, IP)\n",
        "    pt = fk(pt, K1)\n",
        "    pt = pt[4:] + pt[:4]\n",
        "    pt = fk(pt, K2)\n",
        "    return permute(pt, IPi)\n",
        "\n",
        "# Example\n",
        "pt = [1,0,1,0,1,0,1,0]\n",
        "key = [1,0,1,0,0,0,0,0,1,0]\n",
        "ct = encrypt(pt, key)\n",
        "print(\"Cipher:\", ''.join(map(str, ct)))\n"
      ]
    },
    {
      "cell_type": "code",
      "source": [
        "def permute(bits, pattern): return [bits[i - 1] for i in pattern]\n",
        "def shift(l, n): return l[n:] + l[:n]\n",
        "def xor(a, b): return [i ^ j for i, j in zip(a, b)]\n",
        "\n",
        "S0 = [[1,0,3,2],[3,2,1,0],[0,2,1,3],[3,1,3,2]]\n",
        "S1 = [[0,1,2,3],[2,0,1,3],[3,0,1,0],[2,1,0,3]]\n",
        "\n",
        "def sbox(bits, box):\n",
        "    row = (bits[0]<<1) | bits[3]\n",
        "    col = (bits[1]<<1) | bits[2]\n",
        "    val = box[row][col]\n",
        "    return [(val>>1)&1, val&1]\n",
        "\n",
        "def fk(bits, key, step=''):\n",
        "    EP = [4,1,2,3,2,3,4,1]\n",
        "    P4 = [2,4,3,1]\n",
        "    L, R = bits[:4], bits[4:]\n",
        "    temp = xor(permute(R, EP), key)\n",
        "    s_out = sbox(temp[:4], S0) + sbox(temp[4:], S1)\n",
        "    p4 = permute(s_out, P4)\n",
        "    result = xor(L, p4) + R\n",
        "    print(f\"{step}fk: L={L}, R={R}, EP+XOR={temp}, Sboxes={s_out}, P4={p4}, Result={result}\")\n",
        "    return result\n",
        "\n",
        "def keys(k):\n",
        "    P10 = [3,5,2,7,4,10,1,9,8,6]\n",
        "    P8 = [6,3,7,4,8,5,10,9]\n",
        "    k = permute(k, P10)\n",
        "    L, R = shift(k[:5], 1), shift(k[5:], 1)\n",
        "    K1 = permute(L+R, P8)\n",
        "    L, R = shift(L, 2), shift(R, 2)\n",
        "    K2 = permute(L+R, P8)\n",
        "    print(f\"Key Generation:\\n  P10 = {k}, K1 = {K1}, K2 = {K2}\")\n",
        "    return K1, K2\n",
        "\n",
        "def encrypt(pt, k):\n",
        "    IP, IPi = [2,6,3,1,4,8,5,7], [4,1,3,5,7,2,8,6]\n",
        "    print(f\"Plaintext = {pt}\")\n",
        "    K1, K2 = keys(k)\n",
        "    pt = permute(pt, IP)\n",
        "    print(f\"After IP = {pt}\")\n",
        "    pt = fk(pt, K1, 'Round 1 ')\n",
        "    pt = pt[4:] + pt[:4]\n",
        "    print(f\"After swap = {pt}\")\n",
        "    pt = fk(pt, K2, 'Round 2 ')\n",
        "    ct = permute(pt, IPi)\n",
        "    print(f\"Cipher = {ct}\")\n",
        "    return ct\n",
        "\n",
        "# Input\n",
        "pt = [1,0,1,0,1,0,1,0]             # 8-bit plaintext\n",
        "key = [1,0,1,0,0,0,0,0,1,0]        # 10-bit key\n",
        "\n",
        "# Run\n",
        "cipher = encrypt(pt, key)\n",
        "print(\"Final Cipher Text:\", ''.join(map(str, cipher)))\n"
      ],
      "metadata": {
        "colab": {
          "base_uri": "https://localhost:8080/"
        },
        "id": "gV-9K07XuPFW",
        "outputId": "26e1adcd-12cb-46ae-f56e-24861df67a6f"
      },
      "execution_count": null,
      "outputs": [
        {
          "output_type": "stream",
          "name": "stdout",
          "text": [
            "Plaintext = [1, 0, 1, 0, 1, 0, 1, 0]\n",
            "Key Generation:\n",
            "  P10 = [1, 0, 0, 0, 0, 0, 1, 1, 0, 0], K1 = [1, 0, 1, 0, 0, 1, 0, 0], K2 = [0, 1, 0, 0, 0, 0, 1, 1]\n",
            "After IP = [0, 0, 1, 1, 0, 0, 1, 1]\n",
            "Round 1 fk: L=[0, 0, 1, 1], R=[0, 0, 1, 1], EP+XOR=[0, 0, 1, 1, 0, 0, 1, 0], Sboxes=[1, 0, 0, 1], P4=[0, 1, 0, 1], Result=[0, 1, 1, 0, 0, 0, 1, 1]\n",
            "After swap = [0, 0, 1, 1, 0, 1, 1, 0]\n",
            "Round 2 fk: L=[0, 0, 1, 1], R=[0, 1, 1, 0], EP+XOR=[0, 1, 1, 1, 1, 1, 1, 1], Sboxes=[0, 0, 1, 1], P4=[0, 1, 1, 0], Result=[0, 1, 0, 1, 0, 1, 1, 0]\n",
            "Cipher = [1, 0, 0, 0, 1, 1, 0, 1]\n",
            "Final Cipher Text: 10001101\n"
          ]
        }
      ]
    },
    {
      "cell_type": "code",
      "source": [
        "def permute(bits, pattern): return [bits[i - 1] for i in pattern]\n",
        "def shift(l, n): return l[n:] + l[:n]\n",
        "def xor(a, b): return [i ^ j for i, j in zip(a, b)]\n",
        "\n",
        "S0 = [[1,0,3,2],[3,2,1,0],[0,2,1,3],[3,1,3,2]]\n",
        "S1 = [[0,1,2,3],[2,0,1,3],[3,0,1,0],[2,1,0,3]]\n",
        "\n",
        "def sbox(bits, box):\n",
        "    row = (bits[0]<<1) | bits[3]\n",
        "    col = (bits[1]<<1) | bits[2]\n",
        "    val = box[row][col]\n",
        "    return [(val>>1)&1, val&1]\n",
        "\n",
        "def fk(bits, key, step=''):\n",
        "    EP = [4,1,2,3,2,3,4,1]\n",
        "    P4 = [2,4,3,1]\n",
        "    L, R = bits[:4], bits[4:]\n",
        "    temp = xor(permute(R, EP), key)\n",
        "    s_out = sbox(temp[:4], S0) + sbox(temp[4:], S1)\n",
        "    p4 = permute(s_out, P4)\n",
        "    result = xor(L, p4) + R\n",
        "    print(f\"{step}fk:\\n  L = {L}, R = {R}\\n  EP(R) ⊕ Key = {temp}\\n  S-box output = {s_out}, P4 = {p4}\\n  Result = {result}\")\n",
        "    return result\n",
        "\n",
        "def keys(k):\n",
        "    P10 = [3,5,2,7,4,10,1,9,8,6]\n",
        "    P8 = [6,3,7,4,8,5,10,9]\n",
        "    k = permute(k, P10)\n",
        "    L, R = shift(k[:5], 1), shift(k[5:], 1)\n",
        "    K1 = permute(L+R, P8)\n",
        "    L, R = shift(L, 2), shift(R, 2)\n",
        "    K2 = permute(L+R, P8)\n",
        "    print(f\"\\nKey Generation:\\n  P10 = {k}\\n  K1  = {K1}\\n  K2  = {K2}\")\n",
        "    return K1, K2\n",
        "\n",
        "def encrypt(pt, k):\n",
        "    IP, IPi = [2,6,3,1,4,8,5,7], [4,1,3,5,7,2,8,6]\n",
        "    print(f\"\\nPlaintext = {pt}\")\n",
        "    K1, K2 = keys(k)\n",
        "    pt = permute(pt, IP)\n",
        "    print(f\"\\nAfter IP  = {pt}\")\n",
        "    pt = fk(pt, K1, 'Round 1 ')\n",
        "    pt = pt[4:] + pt[:4]\n",
        "    print(f\"\\nAfter swap = {pt}\")\n",
        "    pt = fk(pt, K2, 'Round 2 ')\n",
        "    ct = permute(pt, IPi)\n",
        "    print(f\"\\nAfter IP⁻¹ = {ct}\")\n",
        "    return ct\n",
        "\n",
        "def str_to_bits(s):\n",
        "    return [int(c) for c in s]\n",
        "\n",
        "# --- USER INPUT ---\n",
        "plain_str = input(\"Enter 8-bit plaintext (e.g. 10101010): \")\n",
        "key_str = input(\"Enter 10-bit key (e.g. 1010000010): \")\n",
        "\n",
        "# Input validation\n",
        "if len(plain_str) != 8 or len(key_str) != 10 or not set(plain_str+key_str).issubset({'0', '1'}):\n",
        "    print(\"Invalid input! Please enter correct bit lengths (8 for plaintext, 10 for key).\")\n",
        "else:\n",
        "    pt = str_to_bits(plain_str)\n",
        "    k = str_to_bits(key_str)\n",
        "    cipher = encrypt(pt, k)\n",
        "    print(\"\\nFinal Cipher Text:\", ''.join(map(str, cipher)))\n"
      ],
      "metadata": {
        "colab": {
          "base_uri": "https://localhost:8080/"
        },
        "id": "tv9Jo8Cwv8nu",
        "outputId": "de0a916d-b0d8-4294-f13f-3a00e7da3a04"
      },
      "execution_count": null,
      "outputs": [
        {
          "output_type": "stream",
          "name": "stdout",
          "text": [
            "Enter 8-bit plaintext (e.g. 10101010): 10001010\n",
            "Enter 10-bit key (e.g. 1010000010): 1000101101\n",
            "\n",
            "Plaintext = [1, 0, 0, 0, 1, 0, 1, 0]\n",
            "\n",
            "Key Generation:\n",
            "  P10 = [0, 1, 0, 1, 0, 1, 1, 0, 1, 0]\n",
            "  K1  = [1, 1, 0, 0, 1, 0, 1, 0]\n",
            "  K2  = [1, 0, 0, 1, 1, 0, 0, 1]\n",
            "\n",
            "After IP  = [0, 0, 0, 1, 0, 0, 1, 1]\n",
            "Round 1 fk:\n",
            "  L = [0, 0, 0, 1], R = [0, 0, 1, 1]\n",
            "  EP(R) ⊕ Key = [0, 1, 0, 1, 1, 1, 0, 0]\n",
            "  S-box output = [0, 1, 0, 1], P4 = [1, 1, 0, 0]\n",
            "  Result = [1, 1, 0, 1, 0, 0, 1, 1]\n",
            "\n",
            "After swap = [0, 0, 1, 1, 1, 1, 0, 1]\n",
            "Round 2 fk:\n",
            "  L = [0, 0, 1, 1], R = [1, 1, 0, 1]\n",
            "  EP(R) ⊕ Key = [0, 1, 1, 1, 0, 0, 1, 0]\n",
            "  S-box output = [0, 0, 0, 1], P4 = [0, 1, 0, 0]\n",
            "  Result = [0, 1, 1, 1, 1, 1, 0, 1]\n",
            "\n",
            "After IP⁻¹ = [1, 0, 1, 1, 0, 1, 1, 1]\n",
            "\n",
            "Final Cipher Text: 10110111\n"
          ]
        }
      ]
    },
    {
      "cell_type": "markdown",
      "source": [
        "ICS 2"
      ],
      "metadata": {
        "id": "oqgFnt40woK9"
      }
    },
    {
      "cell_type": "code",
      "source": [
        "# S-AES helper functions and constants\n",
        "SBOX = [0x9, 0x4, 0xA, 0xB,\n",
        "        0xD, 0x1, 0x8, 0x5,\n",
        "        0x6, 0x2, 0x0, 0x3,\n",
        "        0xC, 0xE, 0xF, 0x7]\n",
        "\n",
        "SBOX_INV = [0xA, 0x5, 0x9, 0xB,\n",
        "            0x1, 0x7, 0x8, 0xF,\n",
        "            0x6, 0x0, 0x2, 0x3,\n",
        "            0xC, 0x4, 0xD, 0xE]\n",
        "\n",
        "RCON1 = 0x80\n",
        "RCON2 = 0x30\n",
        "\n",
        "def sub_nib(b): return (SBOX[b >> 4] << 4) + SBOX[b & 0x0F]\n",
        "def sub_nib_inv(b): return (SBOX_INV[b >> 4] << 4) + SBOX_INV[b & 0x0F]\n",
        "\n",
        "def rot_nib(b): return ((b << 4) | (b >> 4)) & 0xFF\n",
        "\n",
        "def key_expand(key):\n",
        "    w = [0]*6\n",
        "    w[0] = (key >> 8) & 0xFF\n",
        "    w[1] = key & 0xFF\n",
        "    w[2] = w[0] ^ RCON1 ^ sub_nib(rot_nib(w[1]))\n",
        "    w[3] = w[2] ^ w[1]\n",
        "    w[4] = w[2] ^ RCON2 ^ sub_nib(rot_nib(w[3]))\n",
        "    w[5] = w[4] ^ w[3]\n",
        "    return [((w[i] << 8) | w[i+1]) for i in range(0, 6, 2)]\n",
        "\n",
        "def mult(p1, p2):\n",
        "    p = 0\n",
        "    for i in range(4):\n",
        "        if p2 & 0x1:\n",
        "            p ^= p1\n",
        "        hi_bit_set = p1 & 0x8\n",
        "        p1 = (p1 << 1) & 0xF\n",
        "        if hi_bit_set:\n",
        "            p1 ^= 0x3\n",
        "        p2 >>= 1\n",
        "    return p\n",
        "\n",
        "def mix_columns(s):\n",
        "    return ((mult(s >> 12, 1) << 12) ^ (mult((s >> 8) & 0xF, 4) << 8) ^\n",
        "            (mult((s >> 4) & 0xF, 4) << 4) ^ (mult(s & 0xF, 1)))\n",
        "\n",
        "def mix_columns_inv(s):\n",
        "    return ((mult(s >> 12, 9) << 12) ^ (mult((s >> 8) & 0xF, 2) << 8) ^\n",
        "            (mult((s >> 4) & 0xF, 2) << 4) ^ (mult(s & 0xF, 9)))\n",
        "\n",
        "def encrypt(ptext, key):\n",
        "    keys = key_expand(key)\n",
        "    state = ptext ^ keys[0]\n",
        "    state = sub_nib(state >> 8) << 8 | sub_nib(state & 0xFF)\n",
        "    state = (state & 0xF0F0) >> 4 | (state & 0x0F0F) << 4  # ShiftRows\n",
        "    state = mix_columns(state)\n",
        "    state ^= keys[1]\n",
        "    state = sub_nib(state >> 8) << 8 | sub_nib(state & 0xFF)\n",
        "    state = (state & 0xF0F0) >> 4 | (state & 0x0F0F) << 4  # ShiftRows\n",
        "    state ^= keys[2]\n",
        "    return state\n",
        "\n",
        "# --- USER INPUT VERSION ---\n",
        "def get_input():\n",
        "    pt_hex = input(\"Enter 16-bit plaintext in hex (e.g., 1234): \")\n",
        "    key_hex = input(\"Enter 16-bit key in hex (e.g., abcd): \")\n",
        "    try:\n",
        "        pt = int(pt_hex, 16)\n",
        "        key = int(key_hex, 16)\n",
        "        if 0 <= pt <= 0xFFFF and 0 <= key <= 0xFFFF:\n",
        "            ct = encrypt(pt, key)\n",
        "            print(f\"\\nEncrypted Ciphertext = {hex(ct)[2:].zfill(4)}\")\n",
        "        else:\n",
        "            print(\"Values must be 16-bit (0000 to FFFF).\")\n",
        "    except ValueError:\n",
        "        print(\"Invalid input. Please enter valid hexadecimal values.\")\n",
        "\n",
        "get_input()\n"
      ],
      "metadata": {
        "colab": {
          "base_uri": "https://localhost:8080/"
        },
        "id": "U_HCH_Y-wpiL",
        "outputId": "d9086292-68f7-44c8-deaf-d3147ddd2431"
      },
      "execution_count": null,
      "outputs": [
        {
          "output_type": "stream",
          "name": "stdout",
          "text": [
            "Enter 16-bit plaintext in hex (e.g., 1234): f0f0\n",
            "Enter 16-bit key in hex (e.g., abcd): 0f0f\n",
            "\n",
            "Encrypted Ciphertext = c7e1\n"
          ]
        }
      ]
    },
    {
      "cell_type": "markdown",
      "source": [
        "Diffie-Hellman Key Exchange"
      ],
      "metadata": {
        "id": "xjBAUSm7xkMs"
      }
    },
    {
      "cell_type": "code",
      "source": [
        "# Diffie-Hellman Key Exchange\n",
        "\n",
        "def power(base, exp, mod):\n",
        "    result = 1\n",
        "    base = base % mod\n",
        "    while exp > 0:\n",
        "        if exp % 2 == 1:\n",
        "            result = (result * base) % mod\n",
        "        exp = exp >> 1\n",
        "        base = (base * base) % mod\n",
        "    return result\n",
        "\n",
        "# --- User Inputs ---\n",
        "p = int(input(\"Enter a prime number (p): \"))           # e.g., 23\n",
        "g = int(input(\"Enter a primitive root modulo p (g): \")) # e.g., 5\n",
        "\n",
        "# Private keys (secret)\n",
        "a = int(input(\"Enter Alice's private key: \"))          # e.g., 6\n",
        "b = int(input(\"Enter Bob's private key: \"))            # e.g., 15\n",
        "\n",
        "# Public keys\n",
        "A = power(g, a, p)  # Alice sends this\n",
        "B = power(g, b, p)  # Bob sends this\n",
        "\n",
        "print(f\"\\nPublic Key of Alice (A = g^a mod p): {A}\")\n",
        "print(f\"Public Key of Bob   (B = g^b mod p): {B}\")\n",
        "\n",
        "# Shared secret key (calculated by both)\n",
        "s_alice = power(B, a, p)\n",
        "s_bob = power(A, b, p)\n",
        "\n",
        "print(f\"\\nShared Secret Key (computed by Alice): {s_alice}\")\n",
        "print(f\"Shared Secret Key (computed by Bob)  : {s_bob}\")\n"
      ],
      "metadata": {
        "colab": {
          "base_uri": "https://localhost:8080/"
        },
        "id": "-ElqQWbLxmIu",
        "outputId": "edc533f5-0c31-4331-db2b-7a0f3b4e6122"
      },
      "execution_count": null,
      "outputs": [
        {
          "output_type": "stream",
          "name": "stdout",
          "text": [
            "Enter a prime number (p): 5\n",
            "Enter a primitive root modulo p (g): 7\n",
            "Enter Alice's private key: 12\n",
            "Enter Bob's private key: 25\n",
            "\n",
            "Public Key of Alice (A = g^a mod p): 1\n",
            "Public Key of Bob   (B = g^b mod p): 2\n",
            "\n",
            "Shared Secret Key (computed by Alice): 1\n",
            "Shared Secret Key (computed by Bob)  : 1\n"
          ]
        }
      ]
    },
    {
      "cell_type": "markdown",
      "source": [
        " Implementation of RSA"
      ],
      "metadata": {
        "id": "wclRgF4IyPKl"
      }
    },
    {
      "cell_type": "code",
      "source": [
        "from math import gcd\n",
        "\n",
        "def modinv(a, m):\n",
        "    # Extended Euclidean Algorithm\n",
        "    m0, x0, x1 = m, 0, 1\n",
        "    while a > 1:\n",
        "        q = a // m\n",
        "        m, a = a % m, m\n",
        "        x0, x1 = x1 - q * x0, x0\n",
        "    return x1 + m0 if x1 < 0 else x1\n",
        "\n",
        "def is_prime(n):\n",
        "    return n > 1 and all(n % i != 0 for i in range(2, int(n**0.5) + 1))\n",
        "\n",
        "def rsa():\n",
        "    print(\"=== RSA Encryption & Decryption ===\")\n",
        "\n",
        "    # --- Inputs ---\n",
        "    p = int(input(\"Enter a prime number p: \"))   # e.g., 61\n",
        "    q = int(input(\"Enter another prime q: \"))    # e.g., 53\n",
        "\n",
        "    if not (is_prime(p) and is_prime(q)):\n",
        "        print(\"Both numbers must be prime!\")\n",
        "        return\n",
        "\n",
        "    n = p * q\n",
        "    phi = (p - 1) * (q - 1)\n",
        "\n",
        "    e = int(input(f\"Enter public key e (1 < e < {phi}, gcd(e, {phi})=1): \"))\n",
        "    if gcd(e, phi) != 1:\n",
        "        print(\"Invalid e. It must be co-prime to φ(n).\")\n",
        "        return\n",
        "\n",
        "    d = modinv(e, phi)\n",
        "\n",
        "    print(f\"\\nPublic Key (e, n): ({e}, {n})\")\n",
        "    print(f\"Private Key (d, n): ({d}, {n})\")\n",
        "\n",
        "    # Message input\n",
        "    msg = int(input(\"\\nEnter message (as a number < n): \"))\n",
        "    if msg >= n:\n",
        "        print(\"Message must be less than n.\")\n",
        "        return\n",
        "\n",
        "    # Encryption\n",
        "    cipher = pow(msg, e, n)\n",
        "    print(f\"Encrypted Cipher: {cipher}\")\n",
        "\n",
        "    # Decryption\n",
        "    decrypted = pow(cipher, d, n)\n",
        "    print(f\"Decrypted Message: {decrypted}\")\n",
        "\n",
        "rsa()\n"
      ],
      "metadata": {
        "colab": {
          "base_uri": "https://localhost:8080/"
        },
        "id": "jGMWRG9kyWk9",
        "outputId": "ec6ba6b6-1563-497c-d8b8-8c775175b9a1"
      },
      "execution_count": null,
      "outputs": [
        {
          "output_type": "stream",
          "name": "stdout",
          "text": [
            "=== RSA Encryption & Decryption ===\n",
            "Enter a prime number p: 61\n",
            "Enter another prime q: 5\n",
            "Enter public key e (1 < e < 240, gcd(e, 240)=1): 250\n",
            "Invalid e. It must be co-prime to φ(n).\n"
          ]
        }
      ]
    }
  ]
}